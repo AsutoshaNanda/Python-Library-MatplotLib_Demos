{
 "cells": [
  {
   "cell_type": "code",
   "execution_count": 28,
   "id": "9f3d1623-c276-4c22-af15-379a9a80b42a",
   "metadata": {},
   "outputs": [],
   "source": [
    "import matplotlib.pyplot as plt\n",
    "import numpy as np\n",
    "import pandas as pd"
   ]
  },
  {
   "cell_type": "code",
   "execution_count": 30,
   "id": "56a2677a-6b04-4c4e-b59f-9797bd321e37",
   "metadata": {},
   "outputs": [],
   "source": [
    "df = pd.read_csv('/Users/puchku-home/Study/Python Libs/Data Viz with Matplotlib & Seaborn/Data/housing_data.csv')"
   ]
  },
  {
   "cell_type": "code",
   "execution_count": 32,
   "id": "16664708-ebbf-4236-b293-e58869aa0c8e",
   "metadata": {},
   "outputs": [
    {
     "data": {
      "text/html": [
       "<div>\n",
       "<style scoped>\n",
       "    .dataframe tbody tr th:only-of-type {\n",
       "        vertical-align: middle;\n",
       "    }\n",
       "\n",
       "    .dataframe tbody tr th {\n",
       "        vertical-align: top;\n",
       "    }\n",
       "\n",
       "    .dataframe thead th {\n",
       "        text-align: right;\n",
       "    }\n",
       "</style>\n",
       "<table border=\"1\" class=\"dataframe\">\n",
       "  <thead>\n",
       "    <tr style=\"text-align: right;\">\n",
       "      <th></th>\n",
       "      <th>region_name</th>\n",
       "      <th>period_begin</th>\n",
       "      <th>period_end</th>\n",
       "      <th>total_homes_sold</th>\n",
       "      <th>inventory</th>\n",
       "      <th>active_listings</th>\n",
       "      <th>age_of_inventory</th>\n",
       "      <th>median_active_list_price</th>\n",
       "      <th>months_of_supply</th>\n",
       "    </tr>\n",
       "  </thead>\n",
       "  <tbody>\n",
       "    <tr>\n",
       "      <th>0</th>\n",
       "      <td>Appling County, GA</td>\n",
       "      <td>2020-04-27</td>\n",
       "      <td>2020-07-19</td>\n",
       "      <td>NaN</td>\n",
       "      <td>1.0</td>\n",
       "      <td>1.0</td>\n",
       "      <td>222.7</td>\n",
       "      <td>136195.8</td>\n",
       "      <td>NaN</td>\n",
       "    </tr>\n",
       "    <tr>\n",
       "      <th>1</th>\n",
       "      <td>Tooele County, UT</td>\n",
       "      <td>2018-08-27</td>\n",
       "      <td>2018-11-18</td>\n",
       "      <td>325.0</td>\n",
       "      <td>NaN</td>\n",
       "      <td>NaN</td>\n",
       "      <td>NaN</td>\n",
       "      <td>NaN</td>\n",
       "      <td>NaN</td>\n",
       "    </tr>\n",
       "    <tr>\n",
       "      <th>2</th>\n",
       "      <td>Johnson County, TX</td>\n",
       "      <td>2019-09-23</td>\n",
       "      <td>2019-12-15</td>\n",
       "      <td>577.0</td>\n",
       "      <td>717.0</td>\n",
       "      <td>778.0</td>\n",
       "      <td>63.0</td>\n",
       "      <td>268737.6</td>\n",
       "      <td>17.095583</td>\n",
       "    </tr>\n",
       "    <tr>\n",
       "      <th>3</th>\n",
       "      <td>Holmes County, OH</td>\n",
       "      <td>2017-10-09</td>\n",
       "      <td>2017-12-31</td>\n",
       "      <td>22.0</td>\n",
       "      <td>52.0</td>\n",
       "      <td>54.0</td>\n",
       "      <td>109.4</td>\n",
       "      <td>115308.3</td>\n",
       "      <td>34.050000</td>\n",
       "    </tr>\n",
       "    <tr>\n",
       "      <th>4</th>\n",
       "      <td>Madison County, FL</td>\n",
       "      <td>2017-01-09</td>\n",
       "      <td>2017-04-02</td>\n",
       "      <td>12.0</td>\n",
       "      <td>54.0</td>\n",
       "      <td>55.0</td>\n",
       "      <td>151.2</td>\n",
       "      <td>158062.5</td>\n",
       "      <td>38.300000</td>\n",
       "    </tr>\n",
       "  </tbody>\n",
       "</table>\n",
       "</div>"
      ],
      "text/plain": [
       "          region_name period_begin  period_end  total_homes_sold  inventory  \\\n",
       "0  Appling County, GA   2020-04-27  2020-07-19               NaN        1.0   \n",
       "1   Tooele County, UT   2018-08-27  2018-11-18             325.0        NaN   \n",
       "2  Johnson County, TX   2019-09-23  2019-12-15             577.0      717.0   \n",
       "3   Holmes County, OH   2017-10-09  2017-12-31              22.0       52.0   \n",
       "4  Madison County, FL   2017-01-09  2017-04-02              12.0       54.0   \n",
       "\n",
       "   active_listings  age_of_inventory  median_active_list_price  \\\n",
       "0              1.0             222.7                  136195.8   \n",
       "1              NaN               NaN                       NaN   \n",
       "2            778.0              63.0                  268737.6   \n",
       "3             54.0             109.4                  115308.3   \n",
       "4             55.0             151.2                  158062.5   \n",
       "\n",
       "   months_of_supply  \n",
       "0               NaN  \n",
       "1               NaN  \n",
       "2         17.095583  \n",
       "3         34.050000  \n",
       "4         38.300000  "
      ]
     },
     "execution_count": 32,
     "metadata": {},
     "output_type": "execute_result"
    }
   ],
   "source": [
    "df.head()"
   ]
  },
  {
   "cell_type": "code",
   "execution_count": 34,
   "id": "fb3ccf4b-807a-4815-a8b3-15c6945f705e",
   "metadata": {},
   "outputs": [],
   "source": [
    "df2 = df.groupby(\"region_name\").agg({\n",
    "    'total_homes_sold': 'sum',\n",
    "    'inventory': 'sum',\n",
    "    'active_listings':'sum'\n",
    "})"
   ]
  },
  {
   "cell_type": "code",
   "execution_count": 36,
   "id": "4d534b24-e7f8-4d74-b014-8f0307753745",
   "metadata": {},
   "outputs": [
    {
     "data": {
      "text/html": [
       "<div>\n",
       "<style scoped>\n",
       "    .dataframe tbody tr th:only-of-type {\n",
       "        vertical-align: middle;\n",
       "    }\n",
       "\n",
       "    .dataframe tbody tr th {\n",
       "        vertical-align: top;\n",
       "    }\n",
       "\n",
       "    .dataframe thead th {\n",
       "        text-align: right;\n",
       "    }\n",
       "</style>\n",
       "<table border=\"1\" class=\"dataframe\">\n",
       "  <thead>\n",
       "    <tr style=\"text-align: right;\">\n",
       "      <th></th>\n",
       "      <th>total_homes_sold</th>\n",
       "      <th>inventory</th>\n",
       "      <th>active_listings</th>\n",
       "    </tr>\n",
       "    <tr>\n",
       "      <th>region_name</th>\n",
       "      <th></th>\n",
       "      <th></th>\n",
       "      <th></th>\n",
       "    </tr>\n",
       "  </thead>\n",
       "  <tbody>\n",
       "    <tr>\n",
       "      <th>Abbeville County, SC</th>\n",
       "      <td>4503.0</td>\n",
       "      <td>7857.0</td>\n",
       "      <td>8319.0</td>\n",
       "    </tr>\n",
       "    <tr>\n",
       "      <th>Acadia Parish, LA</th>\n",
       "      <td>15535.0</td>\n",
       "      <td>23176.0</td>\n",
       "      <td>24435.0</td>\n",
       "    </tr>\n",
       "    <tr>\n",
       "      <th>Ada County, ID</th>\n",
       "      <td>741823.0</td>\n",
       "      <td>524222.0</td>\n",
       "      <td>585812.0</td>\n",
       "    </tr>\n",
       "    <tr>\n",
       "      <th>Adair County, IA</th>\n",
       "      <td>3343.0</td>\n",
       "      <td>4759.0</td>\n",
       "      <td>5077.0</td>\n",
       "    </tr>\n",
       "    <tr>\n",
       "      <th>Adair County, MO</th>\n",
       "      <td>10520.0</td>\n",
       "      <td>14952.0</td>\n",
       "      <td>15790.0</td>\n",
       "    </tr>\n",
       "  </tbody>\n",
       "</table>\n",
       "</div>"
      ],
      "text/plain": [
       "                      total_homes_sold  inventory  active_listings\n",
       "region_name                                                       \n",
       "Abbeville County, SC            4503.0     7857.0           8319.0\n",
       "Acadia Parish, LA              15535.0    23176.0          24435.0\n",
       "Ada County, ID                741823.0   524222.0         585812.0\n",
       "Adair County, IA                3343.0     4759.0           5077.0\n",
       "Adair County, MO               10520.0    14952.0          15790.0"
      ]
     },
     "execution_count": 36,
     "metadata": {},
     "output_type": "execute_result"
    }
   ],
   "source": [
    "df2.head()"
   ]
  },
  {
   "cell_type": "code",
   "execution_count": 38,
   "id": "c0ce8fd8-fcf5-4096-8ad6-195cbe454f00",
   "metadata": {},
   "outputs": [],
   "source": [
    "df=df.groupby(\"region_name\").agg({'median_active_list_price': 'sum'})"
   ]
  },
  {
   "cell_type": "code",
   "execution_count": 40,
   "id": "754ddc6b-68b5-46c6-871b-ff18b5d52439",
   "metadata": {},
   "outputs": [],
   "source": [
    "df=df.head()"
   ]
  },
  {
   "cell_type": "code",
   "execution_count": 42,
   "id": "107dfd31-49f3-4c6d-8e39-267281e3acec",
   "metadata": {},
   "outputs": [
    {
     "data": {
      "text/html": [
       "<div>\n",
       "<style scoped>\n",
       "    .dataframe tbody tr th:only-of-type {\n",
       "        vertical-align: middle;\n",
       "    }\n",
       "\n",
       "    .dataframe tbody tr th {\n",
       "        vertical-align: top;\n",
       "    }\n",
       "\n",
       "    .dataframe thead th {\n",
       "        text-align: right;\n",
       "    }\n",
       "</style>\n",
       "<table border=\"1\" class=\"dataframe\">\n",
       "  <thead>\n",
       "    <tr style=\"text-align: right;\">\n",
       "      <th></th>\n",
       "      <th>median_active_list_price</th>\n",
       "    </tr>\n",
       "    <tr>\n",
       "      <th>region_name</th>\n",
       "      <th></th>\n",
       "    </tr>\n",
       "  </thead>\n",
       "  <tbody>\n",
       "    <tr>\n",
       "      <th>Abbeville County, SC</th>\n",
       "      <td>56381372.5</td>\n",
       "    </tr>\n",
       "    <tr>\n",
       "      <th>Acadia Parish, LA</th>\n",
       "      <td>39645728.1</td>\n",
       "    </tr>\n",
       "    <tr>\n",
       "      <th>Ada County, ID</th>\n",
       "      <td>118884749.4</td>\n",
       "    </tr>\n",
       "    <tr>\n",
       "      <th>Adair County, IA</th>\n",
       "      <td>32325854.7</td>\n",
       "    </tr>\n",
       "    <tr>\n",
       "      <th>Adair County, MO</th>\n",
       "      <td>37319702.9</td>\n",
       "    </tr>\n",
       "  </tbody>\n",
       "</table>\n",
       "</div>"
      ],
      "text/plain": [
       "                      median_active_list_price\n",
       "region_name                                   \n",
       "Abbeville County, SC                56381372.5\n",
       "Acadia Parish, LA                   39645728.1\n",
       "Ada County, ID                     118884749.4\n",
       "Adair County, IA                    32325854.7\n",
       "Adair County, MO                    37319702.9"
      ]
     },
     "execution_count": 42,
     "metadata": {},
     "output_type": "execute_result"
    }
   ],
   "source": [
    "df.head()"
   ]
  },
  {
   "cell_type": "code",
   "execution_count": 62,
   "id": "ed69878b-b8bc-48d2-9f03-792982476377",
   "metadata": {},
   "outputs": [
    {
     "data": {
      "text/plain": [
       "Text(0.5, 1.0, 'Inventory vs Homes Sold')"
      ]
     },
     "execution_count": 62,
     "metadata": {},
     "output_type": "execute_result"
    },
    {
     "data": {
      "image/png": "[encoded data removed]",
      "text/plain": [
       "<Figure size 640x480 with 1 Axes>"
      ]
     },
     "metadata": {},
     "output_type": "display_data"
    }
   ],
   "source": [
    "fig , ax = plt.subplots()\n",
    "\n",
    "\n",
    "ax.scatter(\n",
    "    x = df2[\"total_homes_sold\"]/1000,\n",
    "    y=df2[\"inventory\"]/1000,\n",
    "    \n",
    ")\n",
    "\n",
    "ax.set_xlabel(\"Homes Sold\")\n",
    "ax.set_ylabel(\"Inventory\")\n",
    "\n",
    "ax.set_title(\"Inventory vs Homes Sold\")"
   ]
  },
  {
   "cell_type": "code",
   "execution_count": 44,
   "id": "e43f2452-d19c-4866-a86e-0f677492cfd0",
   "metadata": {},
   "outputs": [
    {
     "data": {
      "text/plain": [
       "<matplotlib.legend.Legend at 0x14f2be3f0>"
      ]
     },
     "execution_count": 44,
     "metadata": {},
     "output_type": "execute_result"
    },
    {
     "data": {
      "image/png": "[encoded data removed]",
      "text/plain": [
       "<Figure size 640x480 with 1 Axes>"
      ]
     },
     "metadata": {},
     "output_type": "display_data"
    }
   ],
   "source": [
    "fig ,ax = plt.subplots()\n",
    "\n",
    "ax.hist(\n",
    "    df[\"median_active_list_price\"]/10000000,\n",
    "    bins = 20,\n",
    "    alpha = 0.5,\n",
    "    density=True,\n",
    "    label = \"Region Based\",\n",
    "    width=0.5,\n",
    "    edgecolor=\"black\"\n",
    ")\n",
    "\n",
    "ax.legend(df.columns)\n"
   ]
  }
 ],
 "metadata": {
  "kernelspec": {
   "display_name": "Python [conda env:base] *",
   "language": "python",
   "name": "conda-base-py"
  },
  "language_info": {
   "codemirror_mode": {
    "name": "ipython",
    "version": 3
   },
   "file_extension": ".py",
   "mimetype": "text/x-python",
   "name": "python",
   "nbconvert_exporter": "python",
   "pygments_lexer": "ipython3",
   "version": "3.12.7"
  }
 },
 "nbformat": 4,
 "nbformat_minor": 5
}
